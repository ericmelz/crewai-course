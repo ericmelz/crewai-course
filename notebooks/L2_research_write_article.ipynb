{
 "cells": [
  {
   "cell_type": "markdown",
   "id": "4092220d-a9e0-4b6a-9f8a-8442bd89b5e3",
   "metadata": {},
   "source": [
    "See <https://learn.deeplearning.ai/courses/multi-ai-agent-systems-with-crewai/lesson/eusjw/create-agents-to-research-and-write-an-article-(code)>"
   ]
  },
  {
   "cell_type": "code",
   "execution_count": 14,
   "id": "d9b2df56-90ec-4e28-8c4e-3f0f96a41dfd",
   "metadata": {},
   "outputs": [],
   "source": [
    "import warnings\n",
    "warnings.filterwarnings('ignore')"
   ]
  },
  {
   "cell_type": "code",
   "execution_count": 15,
   "id": "fd5aaeb9-77a7-4c78-a704-b5b7d2c30053",
   "metadata": {},
   "outputs": [],
   "source": [
    "from crewai import Agent, Task, Crew"
   ]
  },
  {
   "cell_type": "code",
   "execution_count": 1,
   "id": "dacb44c7-7194-4566-9508-ac55d8c196e3",
   "metadata": {},
   "outputs": [],
   "source": [
    "from dotenv import load_dotenv"
   ]
  },
  {
   "cell_type": "code",
   "execution_count": 2,
   "id": "6ceb85e0-6b69-4ba2-a644-be01ebe5663c",
   "metadata": {},
   "outputs": [
    {
     "data": {
      "text/plain": [
       "True"
      ]
     },
     "execution_count": 2,
     "metadata": {},
     "output_type": "execute_result"
    }
   ],
   "source": [
    "load_dotenv()"
   ]
  },
  {
   "cell_type": "code",
   "execution_count": 4,
   "id": "b1a2e2f5-1a0f-42b2-a41b-210d24ef2584",
   "metadata": {},
   "outputs": [],
   "source": [
    "import os"
   ]
  },
  {
   "cell_type": "code",
   "execution_count": 7,
   "id": "122cb639-407e-431b-a783-330bbc2a4b9a",
   "metadata": {},
   "outputs": [],
   "source": [
    "openai_api_key = os.getenv('OPENAI_API_KEY')\n"
   ]
  },
  {
   "cell_type": "code",
   "execution_count": 10,
   "id": "2b5ea7cd-1d7b-4ee1-8f40-19c4c27dc7c8",
   "metadata": {},
   "outputs": [],
   "source": [
    "varname = (\"line 1 of text\"\n",
    "           \"lines 2 of text\")"
   ]
  },
  {
   "cell_type": "code",
   "execution_count": 11,
   "id": "5b935218-126c-4216-ab36-be26f5996929",
   "metadata": {},
   "outputs": [
    {
     "data": {
      "text/plain": [
       "'line 1 of textlines 2 of text'"
      ]
     },
     "execution_count": 11,
     "metadata": {},
     "output_type": "execute_result"
    }
   ],
   "source": [
    "varname"
   ]
  },
  {
   "cell_type": "code",
   "execution_count": 17,
   "id": "2b01435b-1686-409f-817b-5d94783ddcda",
   "metadata": {},
   "outputs": [],
   "source": [
    "planner = Agent(\n",
    "    role=\"Content Planner\",\n",
    "    goal=\"Plan engaging and factually accruate content on {topic}\",\n",
    "    backstory=\"You're working on planning a blog article \"\n",
    "              \"about a the topic: {topic}. \"\n",
    "              \"You collect information that helps the \"\n",
    "              \"audience learn something \"\n",
    "              \"and make informed decisions. \"\n",
    "              \"Your work is the basis for \"\n",
    "              \"the Content Writer to write an article on this topic.\",\n",
    "    allow_delegation=False,\n",
    "    verbose=True\n",
    ")"
   ]
  },
  {
   "cell_type": "code",
   "execution_count": 18,
   "id": "c52f6758-b218-499c-af11-5c243ca93263",
   "metadata": {},
   "outputs": [],
   "source": [
    "writer = Agent(\n",
    "    role=\"Content Writer\",\n",
    "    goal=\"Write insightful and factually accurate \"\n",
    "         \"opinion piece about the topic: {topic}\",\n",
    "    backstory=\"You're working on writing \"\n",
    "              \"a new opinion piece about the topic: {topic}. \"\n",
    "              \"You base your writing on the work of \"\n",
    "              \"the Content Planner, who provides an outline \"\n",
    "              \"and relevant context about the topic. \"\n",
    "              \"You follow the main objectives and \"\n",
    "              \"direction of the outline, \"\n",
    "              \"as provided by the Content Planner. \"\n",
    "              \"You also provide objective and impartial insights \"\n",
    "              \"and back them up with information \"\n",
    "              \"provided by the Content Planner. \"\n",
    "              \"You acknowledge in your opinion piece \"\n",
    "              \"when your statements are opinions \"\n",
    "              \"as opposed to objective statements.\",\n",
    "    allow_delegation=False,\n",
    "    verbose=True\n",
    ")"
   ]
  },
  {
   "cell_type": "code",
   "execution_count": 19,
   "id": "6b6731ba-28f4-4ac2-80b3-d07ec74eb58a",
   "metadata": {},
   "outputs": [],
   "source": [
    "editor = Agent(\n",
    "    role=\"Editor\",\n",
    "    goal=\"Edit a given blog post to align with \"\n",
    "         \"the writing style of the organization. \",\n",
    "    backstory=\"You are an editor who receives a blog post \"\n",
    "              \"from the Content Writer. \"\n",
    "              \"Your goal is to review the blog post \"\n",
    "              \"to ensure that it follows journalistic best practices, \"\n",
    "              \"provides balanced viewpoints \"\n",
    "              \"when providing opinions or assertions, \"\n",
    "              \"and also avoids major controversial topics \"\n",
    "              \"or opinions when possible.\",\n",
    "    allow_delegation=False,\n",
    "    verbose=True\n",
    ")"
   ]
  },
  {
   "cell_type": "code",
   "execution_count": 20,
   "id": "f0c346b2-3a4d-4987-9c73-c0bc18b405eb",
   "metadata": {},
   "outputs": [],
   "source": [
    "plan = Task(\n",
    "    description=(\n",
    "        \"1. Prioritize the latest trends, key players, \"\n",
    "           \"and noteworthy news on {topic}.\\n\"\n",
    "        \"2. Identify the target audience, considering \"\n",
    "           \"their interests and pain points.\\n\"\n",
    "        \"3. Develop a detailed content outline including \"\n",
    "           \"an introduction, key points, and a call to action.\\n\"\n",
    "        \"4. Include SEO keywords and relevant data or sources.\"\n",
    "    ),\n",
    "    expected_output=\"A comprehensive content plan document \"\n",
    "                    \"with an outline, audience analysis, \"\n",
    "                    \"SEO keywords, and reosurces.\",\n",
    "    agent=planner,\n",
    ")"
   ]
  },
  {
   "cell_type": "code",
   "execution_count": 21,
   "id": "9e3ac246-6554-4d0b-a764-c907fc62a29f",
   "metadata": {},
   "outputs": [
    {
     "data": {
      "text/plain": [
       "Task(description=1. Prioritize the latest trends, key players, and noteworthy news on {topic}.\n",
       "2. Identify the target audience, considering their interests and pain points.\n",
       "3. Develop a detailed content outline including an introduction, key points, and a call to action.\n",
       "4. Include SEO keywords and relevant data or sources., expected_output=A comprehensive content plan document with an outline, audience analysis, SEO keywords, and reosurces.)"
      ]
     },
     "execution_count": 21,
     "metadata": {},
     "output_type": "execute_result"
    }
   ],
   "source": [
    "plan"
   ]
  },
  {
   "cell_type": "code",
   "execution_count": 22,
   "id": "cd38568d-8b41-4700-9de4-fabd0ff3ec68",
   "metadata": {},
   "outputs": [],
   "source": [
    "write = Task(\n",
    "    description=(\n",
    "        \"1. Use the content plan to craft a compelling \"\n",
    "           \"blog post on {topic}.\\n\"\n",
    "        \"2. Incorporate SEO keywords naturally.\\n\"\n",
    "        \"3. Sections/Subtitles are properly named \"\n",
    "           \"in an engaging manner.\\n\"\n",
    "        \"4. Ensure the post is structured with an \"\n",
    "           \"engaging introduction, insightful body, \"\n",
    "           \"and a summarizing conclusion.\\n\"\n",
    "    ),\n",
    "    expected_output=\"A well-written blog post \"\n",
    "                    \"in markdown format, ready for publication, \"\n",
    "                    \"each section should have 2 or 3 paragraphs.\",\n",
    "    agent=writer\n",
    ")"
   ]
  },
  {
   "cell_type": "code",
   "execution_count": 23,
   "id": "40280af3-d912-4af4-9831-fada8c37b5bc",
   "metadata": {},
   "outputs": [],
   "source": [
    "edit = Task(\n",
    "    description=(\n",
    "        \"Proofread the given blog post for \"\n",
    "        \"grammatical errors and \"\n",
    "        \"alignment with the brand's voice.\"),\n",
    "    expected_output=\"A well-written blog post in markdown format, \"\n",
    "                    \"ready for publication, \"\n",
    "                    \"each section should have 2 or 3 paragraphs.\",\n",
    "    agent=editor\n",
    ")"
   ]
  },
  {
   "cell_type": "code",
   "execution_count": 24,
   "id": "7af58841-812d-4c88-8eac-494dd8b3aa42",
   "metadata": {},
   "outputs": [],
   "source": [
    "crew = Crew(\n",
    "    agents=[planner, writer, editor],\n",
    "    tasks=[plan, write, edit],\n",
    "    verbose=2\n",
    ")"
   ]
  },
  {
   "cell_type": "code",
   "execution_count": 25,
   "id": "22ea9ddd-d1a9-449d-9d45-564493af09d5",
   "metadata": {},
   "outputs": [
    {
     "name": "stdout",
     "output_type": "stream",
     "text": [
      "\u001b[1m\u001b[95m [DEBUG]: == Working Agent: Content Planner\u001b[00m\n",
      "\u001b[1m\u001b[95m [INFO]: == Starting Task: 1. Prioritize the latest trends, key players, and noteworthy news on Artificial Intelligence.\n",
      "2. Identify the target audience, considering their interests and pain points.\n",
      "3. Develop a detailed content outline including an introduction, key points, and a call to action.\n",
      "4. Include SEO keywords and relevant data or sources.\u001b[00m\n",
      "\n",
      "\n",
      "\u001b[1m> Entering new CrewAgentExecutor chain...\u001b[0m\n",
      "\u001b[32;1m\u001b[1;3mI now can give a great answer\n",
      "\n",
      "Final Answer:\n",
      "Title: The Rise of Artificial Intelligence: Latest Trends, Key Players, and Noteworthy News\n",
      "\n",
      "Introduction:\n",
      "Artificial Intelligence (AI) has rapidly transformed various industries, revolutionizing the way we live and work. In this blog article, we will explore the latest trends, key players, and noteworthy news in the field of AI.\n",
      "\n",
      "Key Points:\n",
      "1. Latest Trends in AI:\n",
      "- Machine Learning and Deep Learning advancements\n",
      "- Natural Language Processing (NLP) breakthroughs\n",
      "- AI-powered automation in various industries\n",
      "- Ethical considerations in AI development\n",
      "- AI in healthcare, finance, and other sectors\n",
      "\n",
      "2. Key Players in the AI Industry:\n",
      "- Google's DeepMind\n",
      "- IBM Watson\n",
      "- Amazon Web Services (AWS)\n",
      "- Microsoft AI\n",
      "- OpenAI\n",
      "- NVIDIA\n",
      "\n",
      "3. Noteworthy News in AI:\n",
      "- Recent AI research developments\n",
      "- AI applications in self-driving cars\n",
      "- AI ethics debates and regulations\n",
      "- AI startups making waves in the industry\n",
      "- AI partnerships and collaborations\n",
      "\n",
      "Audience Analysis:\n",
      "Our target audience includes professionals in tech, business leaders, AI enthusiasts, and anyone interested in the future of technology. They are looking to stay informed about the latest trends and advancements in AI to make informed decisions in their respective fields.\n",
      "\n",
      "SEO Keywords:\n",
      "- Artificial Intelligence trends\n",
      "- Key players in AI\n",
      "- Noteworthy news in AI\n",
      "- Latest AI developments\n",
      "- AI industry updates\n",
      "\n",
      "Call to Action:\n",
      "Stay tuned for our upcoming articles on AI advancements and industry insights to stay ahead in the ever-evolving world of Artificial Intelligence.\n",
      "\n",
      "Resources:\n",
      "1. \"The State of AI in 2021\" - Forbes\n",
      "2. \"Top Artificial Intelligence Companies to Watch in 2021\" - TechCrunch\n",
      "3. \"Ethical Considerations in AI Development\" - Harvard Business Review\n",
      "\n",
      "By following this comprehensive content plan, we aim to provide valuable insights and information for our audience on the topic of Artificial Intelligence.\u001b[0m\n",
      "\n",
      "\u001b[1m> Finished chain.\u001b[0m\n",
      "\u001b[1m\u001b[92m [DEBUG]: == [Content Planner] Task output: Title: The Rise of Artificial Intelligence: Latest Trends, Key Players, and Noteworthy News\n",
      "\n",
      "Introduction:\n",
      "Artificial Intelligence (AI) has rapidly transformed various industries, revolutionizing the way we live and work. In this blog article, we will explore the latest trends, key players, and noteworthy news in the field of AI.\n",
      "\n",
      "Key Points:\n",
      "1. Latest Trends in AI:\n",
      "- Machine Learning and Deep Learning advancements\n",
      "- Natural Language Processing (NLP) breakthroughs\n",
      "- AI-powered automation in various industries\n",
      "- Ethical considerations in AI development\n",
      "- AI in healthcare, finance, and other sectors\n",
      "\n",
      "2. Key Players in the AI Industry:\n",
      "- Google's DeepMind\n",
      "- IBM Watson\n",
      "- Amazon Web Services (AWS)\n",
      "- Microsoft AI\n",
      "- OpenAI\n",
      "- NVIDIA\n",
      "\n",
      "3. Noteworthy News in AI:\n",
      "- Recent AI research developments\n",
      "- AI applications in self-driving cars\n",
      "- AI ethics debates and regulations\n",
      "- AI startups making waves in the industry\n",
      "- AI partnerships and collaborations\n",
      "\n",
      "Audience Analysis:\n",
      "Our target audience includes professionals in tech, business leaders, AI enthusiasts, and anyone interested in the future of technology. They are looking to stay informed about the latest trends and advancements in AI to make informed decisions in their respective fields.\n",
      "\n",
      "SEO Keywords:\n",
      "- Artificial Intelligence trends\n",
      "- Key players in AI\n",
      "- Noteworthy news in AI\n",
      "- Latest AI developments\n",
      "- AI industry updates\n",
      "\n",
      "Call to Action:\n",
      "Stay tuned for our upcoming articles on AI advancements and industry insights to stay ahead in the ever-evolving world of Artificial Intelligence.\n",
      "\n",
      "Resources:\n",
      "1. \"The State of AI in 2021\" - Forbes\n",
      "2. \"Top Artificial Intelligence Companies to Watch in 2021\" - TechCrunch\n",
      "3. \"Ethical Considerations in AI Development\" - Harvard Business Review\n",
      "\n",
      "By following this comprehensive content plan, we aim to provide valuable insights and information for our audience on the topic of Artificial Intelligence.\n",
      "\n",
      "\u001b[00m\n",
      "\u001b[1m\u001b[95m [DEBUG]: == Working Agent: Content Writer\u001b[00m\n",
      "\u001b[1m\u001b[95m [INFO]: == Starting Task: 1. Use the content plan to craft a compelling blog post on Artificial Intelligence.\n",
      "2. Incorporate SEO keywords naturally.\n",
      "3. Sections/Subtitles are properly named in an engaging manner.\n",
      "4. Ensure the post is structured with an engaging introduction, insightful body, and a summarizing conclusion.\n",
      "\u001b[00m\n",
      "\n",
      "\n",
      "\u001b[1m> Entering new CrewAgentExecutor chain...\u001b[0m\n",
      "\u001b[32;1m\u001b[1;3mI now can give a great answer\n",
      "\n",
      "Final Answer: \n",
      "\n",
      "# The Rise of Artificial Intelligence: Latest Trends, Key Players, and Noteworthy News\n",
      "\n",
      "Artificial Intelligence (AI) has become an integral part of various industries, reshaping the way we interact with technology and enhancing efficiency in numerous sectors. In this blog article, we will delve into the latest trends, key players, and noteworthy news in the dynamic field of AI.\n",
      "\n",
      "## Latest Trends in AI\n",
      "\n",
      "One of the most significant trends in AI is the continuous advancement of Machine Learning and Deep Learning techniques. These technologies have enabled computers to learn from data and perform tasks that were once thought to be exclusively human. Natural Language Processing (NLP) has also seen remarkable breakthroughs, allowing machines to understand and generate human language with increasing accuracy. Moreover, AI-powered automation has been implemented across industries, streamlining processes and increasing productivity. However, with these advancements comes the need for ethical considerations in AI development to ensure responsible and unbiased use of technology. AI is being increasingly utilized in healthcare, finance, and other sectors, showcasing its transformative potential in improving services and decision-making processes.\n",
      "\n",
      "## Key Players in the AI Industry\n",
      "\n",
      "Several key players dominate the AI landscape, driving innovation and shaping the future of technology. Google's DeepMind, known for its groundbreaking work in AI research, has pushed the boundaries of what is possible with artificial intelligence. IBM Watson has also made significant contributions to the field, particularly in healthcare and business applications. Amazon Web Services (AWS) offers a wide range of AI services, empowering businesses to integrate AI into their operations seamlessly. Microsoft AI continues to be a major player in the industry, developing AI solutions for various sectors. OpenAI, founded with the mission to ensure artificial general intelligence benefits all of humanity, remains a prominent force in AI research. NVIDIA's expertise in GPU technology has been instrumental in accelerating AI innovation and driving computational breakthroughs.\n",
      "\n",
      "## Noteworthy News in AI\n",
      "\n",
      "The AI landscape is constantly evolving, with new developments and applications emerging regularly. Recent AI research has focused on enhancing machine learning algorithms and exploring new avenues for AI implementation. Self-driving cars have become a prominent application of AI technology, showcasing the potential for autonomous vehicles to revolutionize transportation. Ethical debates and regulatory frameworks surrounding AI continue to shape the industry, emphasizing the importance of responsible AI development. AI startups are making waves in the industry, bringing fresh perspectives and innovative solutions to the market. Collaborations and partnerships between AI companies and industry players are driving synergies and fostering innovation in the AI ecosystem.\n",
      "\n",
      "In conclusion, Artificial Intelligence continues to be a driving force in transforming industries and shaping the future of technology. By staying informed about the latest trends, key players, and noteworthy news in AI, professionals in tech, business leaders, and enthusiasts can make informed decisions and stay ahead in the ever-evolving world of Artificial Intelligence. Stay tuned for our upcoming articles on AI advancements and industry insights to explore the limitless possibilities of AI.\n",
      "\n",
      "References:\n",
      "- Forbes. \"The State of AI in 2021\"\n",
      "- TechCrunch. \"Top Artificial Intelligence Companies to Watch in 2021\"\n",
      "- Harvard Business Review. \"Ethical Considerations in AI Development\"\u001b[0m\n",
      "\n",
      "\u001b[1m> Finished chain.\u001b[0m\n",
      "\u001b[1m\u001b[92m [DEBUG]: == [Content Writer] Task output: # The Rise of Artificial Intelligence: Latest Trends, Key Players, and Noteworthy News\n",
      "\n",
      "Artificial Intelligence (AI) has become an integral part of various industries, reshaping the way we interact with technology and enhancing efficiency in numerous sectors. In this blog article, we will delve into the latest trends, key players, and noteworthy news in the dynamic field of AI.\n",
      "\n",
      "## Latest Trends in AI\n",
      "\n",
      "One of the most significant trends in AI is the continuous advancement of Machine Learning and Deep Learning techniques. These technologies have enabled computers to learn from data and perform tasks that were once thought to be exclusively human. Natural Language Processing (NLP) has also seen remarkable breakthroughs, allowing machines to understand and generate human language with increasing accuracy. Moreover, AI-powered automation has been implemented across industries, streamlining processes and increasing productivity. However, with these advancements comes the need for ethical considerations in AI development to ensure responsible and unbiased use of technology. AI is being increasingly utilized in healthcare, finance, and other sectors, showcasing its transformative potential in improving services and decision-making processes.\n",
      "\n",
      "## Key Players in the AI Industry\n",
      "\n",
      "Several key players dominate the AI landscape, driving innovation and shaping the future of technology. Google's DeepMind, known for its groundbreaking work in AI research, has pushed the boundaries of what is possible with artificial intelligence. IBM Watson has also made significant contributions to the field, particularly in healthcare and business applications. Amazon Web Services (AWS) offers a wide range of AI services, empowering businesses to integrate AI into their operations seamlessly. Microsoft AI continues to be a major player in the industry, developing AI solutions for various sectors. OpenAI, founded with the mission to ensure artificial general intelligence benefits all of humanity, remains a prominent force in AI research. NVIDIA's expertise in GPU technology has been instrumental in accelerating AI innovation and driving computational breakthroughs.\n",
      "\n",
      "## Noteworthy News in AI\n",
      "\n",
      "The AI landscape is constantly evolving, with new developments and applications emerging regularly. Recent AI research has focused on enhancing machine learning algorithms and exploring new avenues for AI implementation. Self-driving cars have become a prominent application of AI technology, showcasing the potential for autonomous vehicles to revolutionize transportation. Ethical debates and regulatory frameworks surrounding AI continue to shape the industry, emphasizing the importance of responsible AI development. AI startups are making waves in the industry, bringing fresh perspectives and innovative solutions to the market. Collaborations and partnerships between AI companies and industry players are driving synergies and fostering innovation in the AI ecosystem.\n",
      "\n",
      "In conclusion, Artificial Intelligence continues to be a driving force in transforming industries and shaping the future of technology. By staying informed about the latest trends, key players, and noteworthy news in AI, professionals in tech, business leaders, and enthusiasts can make informed decisions and stay ahead in the ever-evolving world of Artificial Intelligence. Stay tuned for our upcoming articles on AI advancements and industry insights to explore the limitless possibilities of AI.\n",
      "\n",
      "References:\n",
      "- Forbes. \"The State of AI in 2021\"\n",
      "- TechCrunch. \"Top Artificial Intelligence Companies to Watch in 2021\"\n",
      "- Harvard Business Review. \"Ethical Considerations in AI Development\"\n",
      "\n",
      "\u001b[00m\n",
      "\u001b[1m\u001b[95m [DEBUG]: == Working Agent: Editor\u001b[00m\n",
      "\u001b[1m\u001b[95m [INFO]: == Starting Task: Proofread the given blog post for grammatical errors and alignment with the brand's voice.\u001b[00m\n",
      "\n",
      "\n",
      "\u001b[1m> Entering new CrewAgentExecutor chain...\u001b[0m\n",
      "\u001b[32;1m\u001b[1;3mI now can give a great answer\n",
      "\n",
      "Final Answer: \n",
      "\n",
      "# The Rise of Artificial Intelligence: Latest Trends, Key Players, and Noteworthy News\n",
      "\n",
      "Artificial Intelligence (AI) has become an integral part of various industries, reshaping the way we interact with technology and enhancing efficiency in numerous sectors. In this blog article, we will delve into the latest trends, key players, and noteworthy news in the dynamic field of AI.\n",
      "\n",
      "## Latest Trends in AI\n",
      "\n",
      "One of the most significant trends in AI is the continuous advancement of Machine Learning and Deep Learning techniques. These technologies have enabled computers to learn from data and perform tasks that were once thought to be exclusively human. Natural Language Processing (NLP) has also seen remarkable breakthroughs, allowing machines to understand and generate human language with increasing accuracy. Moreover, AI-powered automation has been implemented across industries, streamlining processes and increasing productivity. However, with these advancements comes the need for ethical considerations in AI development to ensure responsible and unbiased use of technology. AI is being increasingly utilized in healthcare, finance, and other sectors, showcasing its transformative potential in improving services and decision-making processes.\n",
      "\n",
      "## Key Players in the AI Industry\n",
      "\n",
      "Several key players dominate the AI landscape, driving innovation and shaping the future of technology. Google's DeepMind, known for its groundbreaking work in AI research, has pushed the boundaries of what is possible with artificial intelligence. IBM Watson has also made significant contributions to the field, particularly in healthcare and business applications. Amazon Web Services (AWS) offers a wide range of AI services, empowering businesses to integrate AI into their operations seamlessly. Microsoft AI continues to be a major player in the industry, developing AI solutions for various sectors. OpenAI, founded with the mission to ensure artificial general intelligence benefits all of humanity, remains a prominent force in AI research. NVIDIA's expertise in GPU technology has been instrumental in accelerating AI innovation and driving computational breakthroughs.\n",
      "\n",
      "## Noteworthy News in AI\n",
      "\n",
      "The AI landscape is constantly evolving, with new developments and applications emerging regularly. Recent AI research has focused on enhancing machine learning algorithms and exploring new avenues for AI implementation. Self-driving cars have become a prominent application of AI technology, showcasing the potential for autonomous vehicles to revolutionize transportation. Ethical debates and regulatory frameworks surrounding AI continue to shape the industry, emphasizing the importance of responsible AI development. AI startups are making waves in the industry, bringing fresh perspectives and innovative solutions to the market. Collaborations and partnerships between AI companies and industry players are driving synergies and fostering innovation in the AI ecosystem.\n",
      "\n",
      "In conclusion, Artificial Intelligence continues to be a driving force in transforming industries and shaping the future of technology. By staying informed about the latest trends, key players, and noteworthy news in AI, professionals in tech, business leaders, and enthusiasts can make informed decisions and stay ahead in the ever-evolving world of Artificial Intelligence. Stay tuned for our upcoming articles on AI advancements and industry insights to explore the limitless possibilities of AI.\n",
      "\n",
      "References:  \n",
      "- Forbes. \"The State of AI in 2021\"  \n",
      "- TechCrunch. \"Top Artificial Intelligence Companies to Watch in 2021\"  \n",
      "- Harvard Business Review. \"Ethical Considerations in AI Development\"  \u001b[0m\n",
      "\n",
      "\u001b[1m> Finished chain.\u001b[0m\n",
      "\u001b[1m\u001b[92m [DEBUG]: == [Editor] Task output: # The Rise of Artificial Intelligence: Latest Trends, Key Players, and Noteworthy News\n",
      "\n",
      "Artificial Intelligence (AI) has become an integral part of various industries, reshaping the way we interact with technology and enhancing efficiency in numerous sectors. In this blog article, we will delve into the latest trends, key players, and noteworthy news in the dynamic field of AI.\n",
      "\n",
      "## Latest Trends in AI\n",
      "\n",
      "One of the most significant trends in AI is the continuous advancement of Machine Learning and Deep Learning techniques. These technologies have enabled computers to learn from data and perform tasks that were once thought to be exclusively human. Natural Language Processing (NLP) has also seen remarkable breakthroughs, allowing machines to understand and generate human language with increasing accuracy. Moreover, AI-powered automation has been implemented across industries, streamlining processes and increasing productivity. However, with these advancements comes the need for ethical considerations in AI development to ensure responsible and unbiased use of technology. AI is being increasingly utilized in healthcare, finance, and other sectors, showcasing its transformative potential in improving services and decision-making processes.\n",
      "\n",
      "## Key Players in the AI Industry\n",
      "\n",
      "Several key players dominate the AI landscape, driving innovation and shaping the future of technology. Google's DeepMind, known for its groundbreaking work in AI research, has pushed the boundaries of what is possible with artificial intelligence. IBM Watson has also made significant contributions to the field, particularly in healthcare and business applications. Amazon Web Services (AWS) offers a wide range of AI services, empowering businesses to integrate AI into their operations seamlessly. Microsoft AI continues to be a major player in the industry, developing AI solutions for various sectors. OpenAI, founded with the mission to ensure artificial general intelligence benefits all of humanity, remains a prominent force in AI research. NVIDIA's expertise in GPU technology has been instrumental in accelerating AI innovation and driving computational breakthroughs.\n",
      "\n",
      "## Noteworthy News in AI\n",
      "\n",
      "The AI landscape is constantly evolving, with new developments and applications emerging regularly. Recent AI research has focused on enhancing machine learning algorithms and exploring new avenues for AI implementation. Self-driving cars have become a prominent application of AI technology, showcasing the potential for autonomous vehicles to revolutionize transportation. Ethical debates and regulatory frameworks surrounding AI continue to shape the industry, emphasizing the importance of responsible AI development. AI startups are making waves in the industry, bringing fresh perspectives and innovative solutions to the market. Collaborations and partnerships between AI companies and industry players are driving synergies and fostering innovation in the AI ecosystem.\n",
      "\n",
      "In conclusion, Artificial Intelligence continues to be a driving force in transforming industries and shaping the future of technology. By staying informed about the latest trends, key players, and noteworthy news in AI, professionals in tech, business leaders, and enthusiasts can make informed decisions and stay ahead in the ever-evolving world of Artificial Intelligence. Stay tuned for our upcoming articles on AI advancements and industry insights to explore the limitless possibilities of AI.\n",
      "\n",
      "References:  \n",
      "- Forbes. \"The State of AI in 2021\"  \n",
      "- TechCrunch. \"Top Artificial Intelligence Companies to Watch in 2021\"  \n",
      "- Harvard Business Review. \"Ethical Considerations in AI Development\"\n",
      "\n",
      "\u001b[00m\n"
     ]
    }
   ],
   "source": [
    "result = crew.kickoff(inputs={\"topic\": \"Artificial Intelligence\"})"
   ]
  },
  {
   "cell_type": "code",
   "execution_count": 27,
   "id": "e6d710fa-2ab0-4c39-97a6-7ee0174f4b73",
   "metadata": {},
   "outputs": [
    {
     "name": "stdout",
     "output_type": "stream",
     "text": [
      "# The Rise of Artificial Intelligence: Latest Trends, Key Players, and Noteworthy News\n",
      "\n",
      "Artificial Intelligence (AI) has become an integral part of various industries, reshaping the way we interact with technology and enhancing efficiency in numerous sectors. In this blog article, we will delve into the latest trends, key players, and noteworthy news in the dynamic field of AI.\n",
      "\n",
      "## Latest Trends in AI\n",
      "\n",
      "One of the most significant trends in AI is the continuous advancement of Machine Learning and Deep Learning techniques. These technologies have enabled computers to learn from data and perform tasks that were once thought to be exclusively human. Natural Language Processing (NLP) has also seen remarkable breakthroughs, allowing machines to understand and generate human language with increasing accuracy. Moreover, AI-powered automation has been implemented across industries, streamlining processes and increasing productivity. However, with these advancements comes the need for ethical considerations in AI development to ensure responsible and unbiased use of technology. AI is being increasingly utilized in healthcare, finance, and other sectors, showcasing its transformative potential in improving services and decision-making processes.\n",
      "\n",
      "## Key Players in the AI Industry\n",
      "\n",
      "Several key players dominate the AI landscape, driving innovation and shaping the future of technology. Google's DeepMind, known for its groundbreaking work in AI research, has pushed the boundaries of what is possible with artificial intelligence. IBM Watson has also made significant contributions to the field, particularly in healthcare and business applications. Amazon Web Services (AWS) offers a wide range of AI services, empowering businesses to integrate AI into their operations seamlessly. Microsoft AI continues to be a major player in the industry, developing AI solutions for various sectors. OpenAI, founded with the mission to ensure artificial general intelligence benefits all of humanity, remains a prominent force in AI research. NVIDIA's expertise in GPU technology has been instrumental in accelerating AI innovation and driving computational breakthroughs.\n",
      "\n",
      "## Noteworthy News in AI\n",
      "\n",
      "The AI landscape is constantly evolving, with new developments and applications emerging regularly. Recent AI research has focused on enhancing machine learning algorithms and exploring new avenues for AI implementation. Self-driving cars have become a prominent application of AI technology, showcasing the potential for autonomous vehicles to revolutionize transportation. Ethical debates and regulatory frameworks surrounding AI continue to shape the industry, emphasizing the importance of responsible AI development. AI startups are making waves in the industry, bringing fresh perspectives and innovative solutions to the market. Collaborations and partnerships between AI companies and industry players are driving synergies and fostering innovation in the AI ecosystem.\n",
      "\n",
      "In conclusion, Artificial Intelligence continues to be a driving force in transforming industries and shaping the future of technology. By staying informed about the latest trends, key players, and noteworthy news in AI, professionals in tech, business leaders, and enthusiasts can make informed decisions and stay ahead in the ever-evolving world of Artificial Intelligence. Stay tuned for our upcoming articles on AI advancements and industry insights to explore the limitless possibilities of AI.\n",
      "\n",
      "References:  \n",
      "- Forbes. \"The State of AI in 2021\"  \n",
      "- TechCrunch. \"Top Artificial Intelligence Companies to Watch in 2021\"  \n",
      "- Harvard Business Review. \"Ethical Considerations in AI Development\"\n"
     ]
    }
   ],
   "source": [
    "print(result)"
   ]
  },
  {
   "cell_type": "code",
   "execution_count": 28,
   "id": "d10fe21c-1fec-458d-bc87-dd452ca35aac",
   "metadata": {},
   "outputs": [],
   "source": [
    "from IPython.display import Markdown"
   ]
  },
  {
   "cell_type": "code",
   "execution_count": 29,
   "id": "9c235691-7876-4330-9906-7e239f79d01d",
   "metadata": {},
   "outputs": [
    {
     "data": {
      "text/markdown": [
       "# The Rise of Artificial Intelligence: Latest Trends, Key Players, and Noteworthy News\n",
       "\n",
       "Artificial Intelligence (AI) has become an integral part of various industries, reshaping the way we interact with technology and enhancing efficiency in numerous sectors. In this blog article, we will delve into the latest trends, key players, and noteworthy news in the dynamic field of AI.\n",
       "\n",
       "## Latest Trends in AI\n",
       "\n",
       "One of the most significant trends in AI is the continuous advancement of Machine Learning and Deep Learning techniques. These technologies have enabled computers to learn from data and perform tasks that were once thought to be exclusively human. Natural Language Processing (NLP) has also seen remarkable breakthroughs, allowing machines to understand and generate human language with increasing accuracy. Moreover, AI-powered automation has been implemented across industries, streamlining processes and increasing productivity. However, with these advancements comes the need for ethical considerations in AI development to ensure responsible and unbiased use of technology. AI is being increasingly utilized in healthcare, finance, and other sectors, showcasing its transformative potential in improving services and decision-making processes.\n",
       "\n",
       "## Key Players in the AI Industry\n",
       "\n",
       "Several key players dominate the AI landscape, driving innovation and shaping the future of technology. Google's DeepMind, known for its groundbreaking work in AI research, has pushed the boundaries of what is possible with artificial intelligence. IBM Watson has also made significant contributions to the field, particularly in healthcare and business applications. Amazon Web Services (AWS) offers a wide range of AI services, empowering businesses to integrate AI into their operations seamlessly. Microsoft AI continues to be a major player in the industry, developing AI solutions for various sectors. OpenAI, founded with the mission to ensure artificial general intelligence benefits all of humanity, remains a prominent force in AI research. NVIDIA's expertise in GPU technology has been instrumental in accelerating AI innovation and driving computational breakthroughs.\n",
       "\n",
       "## Noteworthy News in AI\n",
       "\n",
       "The AI landscape is constantly evolving, with new developments and applications emerging regularly. Recent AI research has focused on enhancing machine learning algorithms and exploring new avenues for AI implementation. Self-driving cars have become a prominent application of AI technology, showcasing the potential for autonomous vehicles to revolutionize transportation. Ethical debates and regulatory frameworks surrounding AI continue to shape the industry, emphasizing the importance of responsible AI development. AI startups are making waves in the industry, bringing fresh perspectives and innovative solutions to the market. Collaborations and partnerships between AI companies and industry players are driving synergies and fostering innovation in the AI ecosystem.\n",
       "\n",
       "In conclusion, Artificial Intelligence continues to be a driving force in transforming industries and shaping the future of technology. By staying informed about the latest trends, key players, and noteworthy news in AI, professionals in tech, business leaders, and enthusiasts can make informed decisions and stay ahead in the ever-evolving world of Artificial Intelligence. Stay tuned for our upcoming articles on AI advancements and industry insights to explore the limitless possibilities of AI.\n",
       "\n",
       "References:  \n",
       "- Forbes. \"The State of AI in 2021\"  \n",
       "- TechCrunch. \"Top Artificial Intelligence Companies to Watch in 2021\"  \n",
       "- Harvard Business Review. \"Ethical Considerations in AI Development\""
      ],
      "text/plain": [
       "<IPython.core.display.Markdown object>"
      ]
     },
     "execution_count": 29,
     "metadata": {},
     "output_type": "execute_result"
    }
   ],
   "source": [
    "Markdown(result)"
   ]
  },
  {
   "cell_type": "code",
   "execution_count": null,
   "id": "8c967ac2-262c-4c13-91f2-376dde06d51d",
   "metadata": {},
   "outputs": [],
   "source": []
  }
 ],
 "metadata": {
  "kernelspec": {
   "display_name": "Python (crewai)",
   "language": "python",
   "name": "crewai"
  },
  "language_info": {
   "codemirror_mode": {
    "name": "ipython",
    "version": 3
   },
   "file_extension": ".py",
   "mimetype": "text/x-python",
   "name": "python",
   "nbconvert_exporter": "python",
   "pygments_lexer": "ipython3",
   "version": "3.12.0"
  }
 },
 "nbformat": 4,
 "nbformat_minor": 5
}
