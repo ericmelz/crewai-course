{
 "cells": [
  {
   "cell_type": "markdown",
   "id": "72c4710c-8533-47d8-a3a0-8396ab31c3df",
   "metadata": {},
   "source": [
    "# L4: Tools for a Customer Outreach Campaign\n",
    "See <https://learn.deeplearning.ai/courses/multi-ai-agent-systems-with-crewai/lesson/ksejw/tools-for-a-customer-outreach-campaign-(code)>"
   ]
  },
  {
   "cell_type": "code",
   "execution_count": 2,
   "id": "59b9650a-3dee-49a7-9059-1c492dc4f785",
   "metadata": {},
   "outputs": [],
   "source": [
    "import warnings\n",
    "warnings.filterwarnings('ignore')"
   ]
  },
  {
   "cell_type": "code",
   "execution_count": 3,
   "id": "512ed77c-eacc-4728-9f62-ddacce11e814",
   "metadata": {},
   "outputs": [],
   "source": [
    "from crewai import Agent, Task, Crew"
   ]
  },
  {
   "cell_type": "code",
   "execution_count": 7,
   "id": "fe4e7fc9-77f1-4c16-98b4-846f5ea2a63b",
   "metadata": {},
   "outputs": [],
   "source": [
    "import os\n",
    "from dotenv import load_dotenv"
   ]
  },
  {
   "cell_type": "code",
   "execution_count": 8,
   "id": "94bd9743-7b12-4afa-bcc7-7dd58881781c",
   "metadata": {},
   "outputs": [
    {
     "data": {
      "text/plain": [
       "True"
      ]
     },
     "execution_count": 8,
     "metadata": {},
     "output_type": "execute_result"
    }
   ],
   "source": [
    "load_dotenv()"
   ]
  },
  {
   "cell_type": "code",
   "execution_count": 11,
   "id": "9dce3c46-ff5a-4a6f-a289-79b656e5eba9",
   "metadata": {},
   "outputs": [],
   "source": [
    "def pretty_print_result(result):\n",
    "  parsed_result = []\n",
    "  for line in result.split('\\n'):\n",
    "      if len(line) > 80:\n",
    "          words = line.split(' ')\n",
    "          new_line = ''\n",
    "          for word in words:\n",
    "              if len(new_line) + len(word) + 1 > 80:\n",
    "                  parsed_result.append(new_line)\n",
    "                  new_line = word\n",
    "              else:\n",
    "                  if new_line == '':\n",
    "                      new_line = word\n",
    "                  else:\n",
    "                      new_line += ' ' + word\n",
    "          parsed_result.append(new_line)\n",
    "      else:\n",
    "          parsed_result.append(line)\n",
    "  return \"\\n\".join(parsed_result)"
   ]
  },
  {
   "cell_type": "code",
   "execution_count": 12,
   "id": "2a348dbf-06a3-479b-bce4-0280e0e2e09d",
   "metadata": {},
   "outputs": [],
   "source": [
    "sales_rep_agent = Agent(\n",
    "    role=\"Sales Representative\",\n",
    "    goal=\"Identify high-value leads that match \"\n",
    "         \"our ideal customer profile\",\n",
    "    backstory=(\n",
    "        \"As a part of the dynamic sales team at CrewAI, \"\n",
    "        \"your mission is to scour \"\n",
    "        \"the digital landscape for potential leads. \"\n",
    "        \"Armed with cutting-edge tools \"\n",
    "        \"and a strategic mindset, you analyze data, \"\n",
    "        \"trends, and interactions to \"\n",
    "        \"unearth opportunities that others might overlook. \"\n",
    "        \"Your work is crucial in paving the way \"\n",
    "        \"for meaningful engagements and driving the company's growth.\"\n",
    "    ),\n",
    "    allow_delegation=False,\n",
    "    verbose=True\n",
    ")"
   ]
  },
  {
   "cell_type": "code",
   "execution_count": 13,
   "id": "0b5b1a71-294e-4f14-98d3-2e7152cce358",
   "metadata": {},
   "outputs": [],
   "source": [
    "lead_sales_rep_agent = Agent(\n",
    "    role=\"Lead Sales Representative\",\n",
    "    goal=\"Nurture leads with personalized, compelling communications\",\n",
    "    backstory=(\n",
    "        \"Within the vibrant ecosystem of CrewAI's sales department, \"\n",
    "        \"you stand out as the bridge between potential clients \"\n",
    "        \"and the solutions they need.\"\n",
    "        \"By creating engaging, personalized messages, \"\n",
    "        \"you not only inform leads about our offerings \"\n",
    "        \"but also make them feel seen and heard.\"\n",
    "        \"Your role is pivotal in converting interest \"\n",
    "        \"into action, guiding leads through the journey \"\n",
    "        \"from curiosity to commitment.\"\n",
    "    ),\n",
    "    allow_delegation=False,\n",
    "    verbose=True\n",
    ")"
   ]
  },
  {
   "cell_type": "code",
   "execution_count": 14,
   "id": "e29291cb-db38-445e-89aa-608aed68c087",
   "metadata": {},
   "outputs": [],
   "source": [
    "from crewai_tools import DirectoryReadTool, \\\n",
    "                         FileReadTool, \\\n",
    "                         SerperDevTool"
   ]
  },
  {
   "cell_type": "code",
   "execution_count": null,
   "id": "3f8368cb-178a-44f0-a73a-cb11a56a0a92",
   "metadata": {},
   "outputs": [],
   "source": []
  }
 ],
 "metadata": {
  "kernelspec": {
   "display_name": "Python (crewai)",
   "language": "python",
   "name": "crewai"
  },
  "language_info": {
   "codemirror_mode": {
    "name": "ipython",
    "version": 3
   },
   "file_extension": ".py",
   "mimetype": "text/x-python",
   "name": "python",
   "nbconvert_exporter": "python",
   "pygments_lexer": "ipython3",
   "version": "3.12.0"
  }
 },
 "nbformat": 4,
 "nbformat_minor": 5
}
